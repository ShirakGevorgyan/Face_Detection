{
 "cells": [
  {
   "cell_type": "code",
   "execution_count": 1,
   "id": "1ea76dd4-24e1-46cb-a05f-2e8fdb367e5d",
   "metadata": {},
   "outputs": [],
   "source": [
    "import numpy as np\n",
    "import pandas as pd\n",
    "import seaborn as sns\n",
    "import matplotlib.pyplot as plt\n",
    "import matplotlib.image as mpimg\n",
    "import cv2\n",
    "import os"
   ]
  },
  {
   "cell_type": "code",
   "execution_count": 2,
   "id": "45af3db8-34ad-44e5-af46-d4889e0c90bd",
   "metadata": {},
   "outputs": [],
   "source": [
    "train_label = []\n",
    "train_data = []\n",
    "test_label = []\n",
    "test_data = []"
   ]
  },
  {
   "cell_type": "code",
   "execution_count": 3,
   "id": "52b8d579-368c-46ad-ac7a-ce9c63a8090c",
   "metadata": {},
   "outputs": [],
   "source": [
    "label_list = [\"angry\",\"disgust\",\"fear\", \"happy\", \"sad\", \"surprise\", \"neutral\"]\n",
    "for i in label_list:\n",
    "    for j in os.listdir(f'train/{i}/'):\n",
    "        train_label.append(label_list.index(i))\n",
    "        train_data.append(f'train/{i}/{j}')"
   ]
  },
  {
   "cell_type": "code",
   "execution_count": 4,
   "id": "5cee2eb9-e1d7-48c3-b421-1dfc6f59f65b",
   "metadata": {},
   "outputs": [],
   "source": [
    "label_list = [\"angry\",\"disgust\",\"fear\", \"happy\", \"sad\", \"surprise\", \"neutral\"]\n",
    "for i in label_list:\n",
    "    for j in os.listdir(f'test/{i}/'):\n",
    "        test_label.append(label_list.index(i))\n",
    "        test_data.append(f'test/{i}/{j}')"
   ]
  },
  {
   "cell_type": "code",
   "execution_count": 5,
   "id": "32eb7117-72d3-4bca-90ef-54728b1824a3",
   "metadata": {},
   "outputs": [],
   "source": [
    "df_train = pd.DataFrame(data=train_data, columns=['path'])\n",
    "df_train['label'] = train_label"
   ]
  },
  {
   "cell_type": "code",
   "execution_count": 6,
   "id": "10805d9e-cfde-4429-ad7c-4ed9b7376702",
   "metadata": {},
   "outputs": [],
   "source": [
    "df_test = pd.DataFrame(data=test_data, columns=['path'])\n",
    "df_test['label'] = test_label"
   ]
  },
  {
   "cell_type": "code",
   "execution_count": 24,
   "id": "cc23e904-e342-4009-a270-22c4c80f99f0",
   "metadata": {},
   "outputs": [],
   "source": [
    "from keras import Sequential\n",
    "from keras.layers import Dense, MaxPooling2D, Conv2D, Flatten, Dropout"
   ]
  },
  {
   "cell_type": "code",
   "execution_count": 11,
   "id": "7858b6ff-f3bc-4217-b9e3-e928c2b1bcf6",
   "metadata": {},
   "outputs": [],
   "source": [
    "X = df_train.drop('label', axis=1)\n",
    "y = df_train['label']"
   ]
  },
  {
   "cell_type": "code",
   "execution_count": 12,
   "id": "98fa5679-5c12-40f5-b51b-c3e7ee743682",
   "metadata": {},
   "outputs": [],
   "source": [
    "from sklearn.model_selection import train_test_split"
   ]
  },
  {
   "cell_type": "code",
   "execution_count": 13,
   "id": "ca3fa9f2-8983-4a84-abc0-9ad6b000c236",
   "metadata": {},
   "outputs": [],
   "source": [
    "X_train, X_val, y_train, y_val = train_test_split(X, y, test_size=0.1, random_state=42)"
   ]
  },
  {
   "cell_type": "code",
   "execution_count": 14,
   "id": "1fb19b80-7aa9-4fbe-9508-4de9aea5d410",
   "metadata": {},
   "outputs": [
    {
     "data": {
      "text/html": [
       "<div>\n",
       "<style scoped>\n",
       "    .dataframe tbody tr th:only-of-type {\n",
       "        vertical-align: middle;\n",
       "    }\n",
       "\n",
       "    .dataframe tbody tr th {\n",
       "        vertical-align: top;\n",
       "    }\n",
       "\n",
       "    .dataframe thead th {\n",
       "        text-align: right;\n",
       "    }\n",
       "</style>\n",
       "<table border=\"1\" class=\"dataframe\">\n",
       "  <thead>\n",
       "    <tr style=\"text-align: right;\">\n",
       "      <th></th>\n",
       "      <th>path</th>\n",
       "    </tr>\n",
       "  </thead>\n",
       "  <tbody>\n",
       "    <tr>\n",
       "      <th>22453</th>\n",
       "      <td>train/surprise/Training_63790868.jpg</td>\n",
       "    </tr>\n",
       "    <tr>\n",
       "      <th>13212</th>\n",
       "      <td>train/happy/Training_68630514.jpg</td>\n",
       "    </tr>\n",
       "    <tr>\n",
       "      <th>22655</th>\n",
       "      <td>train/surprise/Training_68787983.jpg</td>\n",
       "    </tr>\n",
       "    <tr>\n",
       "      <th>21347</th>\n",
       "      <td>train/surprise/Training_31741324.jpg</td>\n",
       "    </tr>\n",
       "    <tr>\n",
       "      <th>3589</th>\n",
       "      <td>train/angry/Training_91498767.jpg</td>\n",
       "    </tr>\n",
       "    <tr>\n",
       "      <th>...</th>\n",
       "      <td>...</td>\n",
       "    </tr>\n",
       "    <tr>\n",
       "      <th>21575</th>\n",
       "      <td>train/surprise/Training_38504835.jpg</td>\n",
       "    </tr>\n",
       "    <tr>\n",
       "      <th>5390</th>\n",
       "      <td>train/fear/Training_31740082.jpg</td>\n",
       "    </tr>\n",
       "    <tr>\n",
       "      <th>860</th>\n",
       "      <td>train/angry/Training_29393434.jpg</td>\n",
       "    </tr>\n",
       "    <tr>\n",
       "      <th>15795</th>\n",
       "      <td>train/sad/Training_11007176.jpg</td>\n",
       "    </tr>\n",
       "    <tr>\n",
       "      <th>23654</th>\n",
       "      <td>train/surprise/Training_97705054.jpg</td>\n",
       "    </tr>\n",
       "  </tbody>\n",
       "</table>\n",
       "<p>25839 rows × 1 columns</p>\n",
       "</div>"
      ],
      "text/plain": [
       "                                       path\n",
       "22453  train/surprise/Training_63790868.jpg\n",
       "13212     train/happy/Training_68630514.jpg\n",
       "22655  train/surprise/Training_68787983.jpg\n",
       "21347  train/surprise/Training_31741324.jpg\n",
       "3589      train/angry/Training_91498767.jpg\n",
       "...                                     ...\n",
       "21575  train/surprise/Training_38504835.jpg\n",
       "5390       train/fear/Training_31740082.jpg\n",
       "860       train/angry/Training_29393434.jpg\n",
       "15795       train/sad/Training_11007176.jpg\n",
       "23654  train/surprise/Training_97705054.jpg\n",
       "\n",
       "[25839 rows x 1 columns]"
      ]
     },
     "execution_count": 14,
     "metadata": {},
     "output_type": "execute_result"
    }
   ],
   "source": [
    "X_train"
   ]
  },
  {
   "cell_type": "code",
   "execution_count": 15,
   "id": "d5f1cc76-1939-46cd-b267-8fa9b4a022bc",
   "metadata": {},
   "outputs": [],
   "source": [
    "X_train_data = []\n",
    "for i in range(len(X_train)):\n",
    "    try:\n",
    "        image = cv2.imread(X_train.values[i][0])\n",
    "        image = image / 255\n",
    "        X_train_data.append(image)\n",
    "    except:\n",
    "        y_train = y_train.drop(i, axis=0)\n",
    "        continue\n",
    "X_train_data = np.array(X_train_data)"
   ]
  },
  {
   "cell_type": "code",
   "execution_count": 16,
   "id": "659aef9c-4d1a-493c-a47a-89467b3eadb4",
   "metadata": {},
   "outputs": [],
   "source": [
    "X_test = df_test.drop('label', axis=1)\n",
    "y_test = df_test['label']"
   ]
  },
  {
   "cell_type": "code",
   "execution_count": 17,
   "id": "e49b1a6f-1509-4e16-96b5-94dafd6283da",
   "metadata": {},
   "outputs": [],
   "source": [
    "X_test_data = []\n",
    "for i in range(len(X_test)):\n",
    "    try:\n",
    "        image = cv2.imread(X_test.values[i][0])\n",
    "        image = image / 255\n",
    "        X_test_data.append(image)\n",
    "    except:\n",
    "        y_test = y_test.drop(i, axis=0)\n",
    "        continue\n",
    "X_test_data = np.array(X_test_data)"
   ]
  },
  {
   "cell_type": "code",
   "execution_count": 18,
   "id": "cef9df26-4536-4448-9f41-800fd2680845",
   "metadata": {},
   "outputs": [],
   "source": [
    "X_val_data = []\n",
    "for i in range(len(X_val)):\n",
    "    try:\n",
    "        image = cv2.imread(X_val.values[i][0])\n",
    "        image = image / 255\n",
    "        X_val_data.append(image)\n",
    "    except:\n",
    "        y_val = y_val.drop(i, axis=0)\n",
    "        continue\n",
    "X_val_data = np.array(X_val_data)"
   ]
  },
  {
   "cell_type": "code",
   "execution_count": 19,
   "id": "d62af69d-33b7-42f8-811b-ff18263d2037",
   "metadata": {},
   "outputs": [],
   "source": [
    "from keras.utils import to_categorical"
   ]
  },
  {
   "cell_type": "code",
   "execution_count": 20,
   "id": "9421dc6d-82ae-4df0-be63-0353eefecca3",
   "metadata": {},
   "outputs": [],
   "source": [
    "y_train = to_categorical(y_train)\n",
    "y_test = to_categorical(y_test)\n",
    "y_val = to_categorical(y_val)"
   ]
  },
  {
   "cell_type": "code",
   "execution_count": 30,
   "id": "3867f047-c866-4117-b707-00e26b79b9e8",
   "metadata": {},
   "outputs": [],
   "source": [
    "model = Sequential()\n",
    "model.add(Conv2D(32, kernel_size=(3, 3), padding='valid', input_shape=(48, 48, 3)))\n",
    "model.add(MaxPooling2D((2, 2)))\n",
    "model.add(Conv2D(64, kernel_size=(3, 3), padding='valid'))\n",
    "model.add(MaxPooling2D((2, 2)))\n",
    "model.add(Conv2D(128, kernel_size=(3, 3), padding='valid'))\n",
    "model.add(MaxPooling2D((2, 2)))\n",
    "model.add(Flatten())\n",
    "model.add(Dense(200, activation='relu'))\n",
    "model.add(Dropout(0.5))\n",
    "model.add(Dense(100, activation='relu'))\n",
    "model.add(Dropout(0.25))\n",
    "model.add(Dense(50, activation='relu'))\n",
    "model.add(Dense(7, activation='softmax'))"
   ]
  },
  {
   "cell_type": "code",
   "execution_count": 31,
   "id": "bddacfb4-bf2d-4f4a-bdbf-87c00a9681d9",
   "metadata": {},
   "outputs": [],
   "source": [
    "model.compile(optimizer='adam', loss='categorical_crossentropy', metrics=['accuracy'])"
   ]
  },
  {
   "cell_type": "code",
   "execution_count": 33,
   "id": "184f11fc-996b-43f4-88b1-8cc66274957c",
   "metadata": {},
   "outputs": [
    {
     "name": "stdout",
     "output_type": "stream",
     "text": [
      "Epoch 1/20\n",
      "\u001b[1m808/808\u001b[0m \u001b[32m━━━━━━━━━━━━━━━━━━━━\u001b[0m\u001b[37m\u001b[0m \u001b[1m15s\u001b[0m 18ms/step - accuracy: 0.5929 - loss: 1.0934 - val_accuracy: 0.4203 - val_loss: 1.6557\n",
      "Epoch 2/20\n",
      "\u001b[1m808/808\u001b[0m \u001b[32m━━━━━━━━━━━━━━━━━━━━\u001b[0m\u001b[37m\u001b[0m \u001b[1m14s\u001b[0m 18ms/step - accuracy: 0.6196 - loss: 1.0494 - val_accuracy: 0.4189 - val_loss: 1.6060\n",
      "Epoch 3/20\n",
      "\u001b[1m808/808\u001b[0m \u001b[32m━━━━━━━━━━━━━━━━━━━━\u001b[0m\u001b[37m\u001b[0m \u001b[1m14s\u001b[0m 18ms/step - accuracy: 0.6308 - loss: 1.0049 - val_accuracy: 0.4063 - val_loss: 1.6590\n",
      "Epoch 4/20\n",
      "\u001b[1m808/808\u001b[0m \u001b[32m━━━━━━━━━━━━━━━━━━━━\u001b[0m\u001b[37m\u001b[0m \u001b[1m14s\u001b[0m 18ms/step - accuracy: 0.6475 - loss: 0.9625 - val_accuracy: 0.4168 - val_loss: 1.7181\n",
      "Epoch 5/20\n",
      "\u001b[1m808/808\u001b[0m \u001b[32m━━━━━━━━━━━━━━━━━━━━\u001b[0m\u001b[37m\u001b[0m \u001b[1m15s\u001b[0m 18ms/step - accuracy: 0.6535 - loss: 0.9486 - val_accuracy: 0.4157 - val_loss: 1.7510\n",
      "Epoch 6/20\n",
      "\u001b[1m808/808\u001b[0m \u001b[32m━━━━━━━━━━━━━━━━━━━━\u001b[0m\u001b[37m\u001b[0m \u001b[1m20s\u001b[0m 18ms/step - accuracy: 0.6671 - loss: 0.9072 - val_accuracy: 0.4220 - val_loss: 1.7563\n",
      "Epoch 7/20\n",
      "\u001b[1m808/808\u001b[0m \u001b[32m━━━━━━━━━━━━━━━━━━━━\u001b[0m\u001b[37m\u001b[0m \u001b[1m15s\u001b[0m 18ms/step - accuracy: 0.6857 - loss: 0.8633 - val_accuracy: 0.4140 - val_loss: 1.6875\n",
      "Epoch 8/20\n",
      "\u001b[1m808/808\u001b[0m \u001b[32m━━━━━━━━━━━━━━━━━━━━\u001b[0m\u001b[37m\u001b[0m \u001b[1m14s\u001b[0m 18ms/step - accuracy: 0.6959 - loss: 0.8392 - val_accuracy: 0.4011 - val_loss: 1.7247\n",
      "Epoch 9/20\n",
      "\u001b[1m808/808\u001b[0m \u001b[32m━━━━━━━━━━━━━━━━━━━━\u001b[0m\u001b[37m\u001b[0m \u001b[1m14s\u001b[0m 18ms/step - accuracy: 0.6969 - loss: 0.8162 - val_accuracy: 0.3931 - val_loss: 1.8969\n",
      "Epoch 10/20\n",
      "\u001b[1m808/808\u001b[0m \u001b[32m━━━━━━━━━━━━━━━━━━━━\u001b[0m\u001b[37m\u001b[0m \u001b[1m14s\u001b[0m 18ms/step - accuracy: 0.7097 - loss: 0.7987 - val_accuracy: 0.4001 - val_loss: 1.8680\n",
      "Epoch 11/20\n",
      "\u001b[1m808/808\u001b[0m \u001b[32m━━━━━━━━━━━━━━━━━━━━\u001b[0m\u001b[37m\u001b[0m \u001b[1m14s\u001b[0m 18ms/step - accuracy: 0.7209 - loss: 0.7605 - val_accuracy: 0.3788 - val_loss: 1.9052\n",
      "Epoch 12/20\n",
      "\u001b[1m808/808\u001b[0m \u001b[32m━━━━━━━━━━━━━━━━━━━━\u001b[0m\u001b[37m\u001b[0m \u001b[1m14s\u001b[0m 18ms/step - accuracy: 0.7207 - loss: 0.7579 - val_accuracy: 0.3980 - val_loss: 1.8684\n",
      "Epoch 13/20\n",
      "\u001b[1m808/808\u001b[0m \u001b[32m━━━━━━━━━━━━━━━━━━━━\u001b[0m\u001b[37m\u001b[0m \u001b[1m14s\u001b[0m 18ms/step - accuracy: 0.7327 - loss: 0.7356 - val_accuracy: 0.4022 - val_loss: 1.9651\n",
      "Epoch 14/20\n",
      "\u001b[1m808/808\u001b[0m \u001b[32m━━━━━━━━━━━━━━━━━━━━\u001b[0m\u001b[37m\u001b[0m \u001b[1m14s\u001b[0m 18ms/step - accuracy: 0.7450 - loss: 0.7130 - val_accuracy: 0.4053 - val_loss: 1.9473\n",
      "Epoch 15/20\n",
      "\u001b[1m808/808\u001b[0m \u001b[32m━━━━━━━━━━━━━━━━━━━━\u001b[0m\u001b[37m\u001b[0m \u001b[1m14s\u001b[0m 18ms/step - accuracy: 0.7368 - loss: 0.7245 - val_accuracy: 0.4140 - val_loss: 2.1394\n",
      "Epoch 16/20\n",
      "\u001b[1m808/808\u001b[0m \u001b[32m━━━━━━━━━━━━━━━━━━━━\u001b[0m\u001b[37m\u001b[0m \u001b[1m15s\u001b[0m 18ms/step - accuracy: 0.7473 - loss: 0.7009 - val_accuracy: 0.4025 - val_loss: 2.0520\n",
      "Epoch 17/20\n",
      "\u001b[1m808/808\u001b[0m \u001b[32m━━━━━━━━━━━━━━━━━━━━\u001b[0m\u001b[37m\u001b[0m \u001b[1m14s\u001b[0m 18ms/step - accuracy: 0.7543 - loss: 0.6776 - val_accuracy: 0.4063 - val_loss: 2.0556\n",
      "Epoch 18/20\n",
      "\u001b[1m808/808\u001b[0m \u001b[32m━━━━━━━━━━━━━━━━━━━━\u001b[0m\u001b[37m\u001b[0m \u001b[1m14s\u001b[0m 18ms/step - accuracy: 0.7641 - loss: 0.6570 - val_accuracy: 0.4067 - val_loss: 2.1253\n",
      "Epoch 19/20\n",
      "\u001b[1m808/808\u001b[0m \u001b[32m━━━━━━━━━━━━━━━━━━━━\u001b[0m\u001b[37m\u001b[0m \u001b[1m15s\u001b[0m 18ms/step - accuracy: 0.7673 - loss: 0.6497 - val_accuracy: 0.3935 - val_loss: 2.1387\n",
      "Epoch 20/20\n",
      "\u001b[1m808/808\u001b[0m \u001b[32m━━━━━━━━━━━━━━━━━━━━\u001b[0m\u001b[37m\u001b[0m \u001b[1m14s\u001b[0m 18ms/step - accuracy: 0.7722 - loss: 0.6335 - val_accuracy: 0.3959 - val_loss: 2.0198\n"
     ]
    },
    {
     "data": {
      "text/plain": [
       "<keras.src.callbacks.history.History at 0x2443e131a10>"
      ]
     },
     "execution_count": 33,
     "metadata": {},
     "output_type": "execute_result"
    }
   ],
   "source": [
    "model.fit(X_train_data, y_train, batch_size=32, epochs=20, validation_data=(X_val_data, y_val))"
   ]
  },
  {
   "cell_type": "code",
   "execution_count": 34,
   "id": "dbb17bf2-a7c4-4db8-af7d-5277812c7eb0",
   "metadata": {},
   "outputs": [
    {
     "name": "stdout",
     "output_type": "stream",
     "text": [
      "\u001b[1m225/225\u001b[0m \u001b[32m━━━━━━━━━━━━━━━━━━━━\u001b[0m\u001b[37m\u001b[0m \u001b[1m2s\u001b[0m 7ms/step\n"
     ]
    }
   ],
   "source": [
    "y_pred = model.predict(X_test_data)"
   ]
  },
  {
   "cell_type": "code",
   "execution_count": 36,
   "id": "adc29751-1981-4712-aba2-29119087c542",
   "metadata": {},
   "outputs": [],
   "source": [
    "y_pred = [np.argmax(i) for i in y_pred]"
   ]
  },
  {
   "cell_type": "code",
   "execution_count": 38,
   "id": "0afb314a-95dc-41b8-8dd1-490930690194",
   "metadata": {},
   "outputs": [],
   "source": [
    "y_pred = np.array(y_pred)"
   ]
  },
  {
   "cell_type": "code",
   "execution_count": 40,
   "id": "fd552b00-7a22-4dbe-b376-e0a7a05fb4f0",
   "metadata": {},
   "outputs": [],
   "source": [
    "from sklearn.metrics import classification_report"
   ]
  },
  {
   "cell_type": "code",
   "execution_count": 41,
   "id": "23bb4d81-da64-4012-a30b-e9c4b907393f",
   "metadata": {},
   "outputs": [],
   "source": [
    "y_test_ = [np.argmax(i) for i in y_test]"
   ]
  },
  {
   "cell_type": "code",
   "execution_count": 42,
   "id": "93efd938-3004-4772-b403-7fa6df640247",
   "metadata": {},
   "outputs": [],
   "source": [
    "y_test_ = np.array(y_test_)"
   ]
  },
  {
   "cell_type": "code",
   "execution_count": 43,
   "id": "0190de9d-9df4-4367-bb21-09a921137552",
   "metadata": {},
   "outputs": [
    {
     "name": "stdout",
     "output_type": "stream",
     "text": [
      "              precision    recall  f1-score   support\n",
      "\n",
      "           0       0.26      0.32      0.29       768\n",
      "           1       0.03      0.75      0.05         4\n",
      "           2       0.31      0.23      0.26      1362\n",
      "           3       0.55      0.57      0.56      1725\n",
      "           4       0.33      0.30      0.31      1381\n",
      "           5       0.49      0.56      0.52       722\n",
      "           6       0.36      0.36      0.36      1216\n",
      "\n",
      "    accuracy                           0.39      7178\n",
      "   macro avg       0.33      0.44      0.34      7178\n",
      "weighted avg       0.39      0.39      0.39      7178\n",
      "\n"
     ]
    }
   ],
   "source": [
    "print(classification_report(y_pred, y_test_))"
   ]
  },
  {
   "cell_type": "code",
   "execution_count": 72,
   "id": "198e4e6c-5be2-46e8-8564-f54f01b5d3f0",
   "metadata": {},
   "outputs": [],
   "source": [
    "import pickle"
   ]
  },
  {
   "cell_type": "code",
   "execution_count": 73,
   "id": "24143722-1554-4512-9a53-35000046d8f1",
   "metadata": {},
   "outputs": [],
   "source": [
    "with open('mymodel.pkl', 'wb') as file:\n",
    "    pickle.dump(model, file)"
   ]
  },
  {
   "cell_type": "code",
   "execution_count": null,
   "id": "25fe5704-5aab-4559-b6f8-58a60105a2f9",
   "metadata": {},
   "outputs": [],
   "source": []
  }
 ],
 "metadata": {
  "kernelspec": {
   "display_name": "Python 3 (ipykernel)",
   "language": "python",
   "name": "python3"
  },
  "language_info": {
   "codemirror_mode": {
    "name": "ipython",
    "version": 3
   },
   "file_extension": ".py",
   "mimetype": "text/x-python",
   "name": "python",
   "nbconvert_exporter": "python",
   "pygments_lexer": "ipython3",
   "version": "3.11.2"
  }
 },
 "nbformat": 4,
 "nbformat_minor": 5
}
